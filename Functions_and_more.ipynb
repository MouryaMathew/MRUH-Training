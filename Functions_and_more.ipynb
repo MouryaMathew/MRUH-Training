{
  "nbformat": 4,
  "nbformat_minor": 0,
  "metadata": {
    "colab": {
      "provenance": [],
      "authorship_tag": "ABX9TyPB80BPRjDjGscO9EURAgoz",
      "include_colab_link": true
    },
    "kernelspec": {
      "name": "python3",
      "display_name": "Python 3"
    },
    "language_info": {
      "name": "python"
    }
  },
  "cells": [
    {
      "cell_type": "markdown",
      "metadata": {
        "id": "view-in-github",
        "colab_type": "text"
      },
      "source": [
        "<a href=\"https://colab.research.google.com/github/MouryaMathew/MRUH-Training/blob/main/Functions_and_more.ipynb\" target=\"_parent\"><img src=\"https://colab.research.google.com/assets/colab-badge.svg\" alt=\"Open In Colab\"/></a>"
      ]
    },
    {
      "cell_type": "code",
      "execution_count": 30,
      "metadata": {
        "colab": {
          "base_uri": "https://localhost:8080/"
        },
        "id": "QUyXEriQFroz",
        "outputId": "8a1bf097-b0cf-4513-bef0-8e32a91705ed"
      },
      "outputs": [
        {
          "output_type": "stream",
          "name": "stdout",
          "text": [
            "Original integer: 42\n"
          ]
        }
      ],
      "source": [
        "My_int = 42\n",
        "print ('Original integer:', My_int)"
      ]
    },
    {
      "cell_type": "code",
      "source": [
        "\n",
        "my_list = [1, 'hello',3.14,True]\n",
        "print ('Original list:', my_list)"
      ],
      "metadata": {
        "colab": {
          "base_uri": "https://localhost:8080/"
        },
        "id": "4gwqF1cdFuCE",
        "outputId": "449f7bc1-5ff4-45fc-d7d2-d0dd2855ed98"
      },
      "execution_count": 31,
      "outputs": [
        {
          "output_type": "stream",
          "name": "stdout",
          "text": [
            "Original list: [1, 'hello', 3.14, True]\n"
          ]
        }
      ]
    },
    {
      "cell_type": "code",
      "source": [
        "my_tuple = 'apple',3.14,False\n",
        "print('Original tuple:',my_tuple)\n",
        "print('First element:',my_tuple[0])"
      ],
      "metadata": {
        "colab": {
          "base_uri": "https://localhost:8080/"
        },
        "id": "XfsIhqU1GrBo",
        "outputId": "93716cd5-0147-4621-8778-b8b843367b53"
      },
      "execution_count": 32,
      "outputs": [
        {
          "output_type": "stream",
          "name": "stdout",
          "text": [
            "Original tuple: ('apple', 3.14, False)\n",
            "First element: apple\n"
          ]
        }
      ]
    },
    {
      "cell_type": "code",
      "source": [
        "for i in range (1,6):\n",
        "  print(i)"
      ],
      "metadata": {
        "colab": {
          "base_uri": "https://localhost:8080/"
        },
        "id": "5_nN-Q7ZGzcT",
        "outputId": "2a81ad1f-0a17-4a07-cc20-d9e760e85f20"
      },
      "execution_count": 33,
      "outputs": [
        {
          "output_type": "stream",
          "name": "stdout",
          "text": [
            "1\n",
            "2\n",
            "3\n",
            "4\n",
            "5\n"
          ]
        }
      ]
    },
    {
      "cell_type": "code",
      "source": [
        "i =1\n",
        "while i <=5:\n",
        "  print(i)\n",
        "  i +=1"
      ],
      "metadata": {
        "colab": {
          "base_uri": "https://localhost:8080/"
        },
        "id": "zhxX2mJSIKEy",
        "outputId": "dfd1c4ea-d938-4e11-d052-074bab914702"
      },
      "execution_count": 34,
      "outputs": [
        {
          "output_type": "stream",
          "name": "stdout",
          "text": [
            "1\n",
            "2\n",
            "3\n",
            "4\n",
            "5\n"
          ]
        }
      ]
    },
    {
      "cell_type": "code",
      "source": [
        "def greet (name):\n",
        "  \"\"\"This function takes a name as an agument functions and prints output\"\"\"\n",
        "  print(\"Hello, \" + name + \"!\")\n",
        "  greet(\"Alice\")"
      ],
      "metadata": {
        "id": "ciHie0tOJW6_"
      },
      "execution_count": 36,
      "outputs": []
    },
    {
      "cell_type": "code",
      "source": [
        "print(dir(str))"
      ],
      "metadata": {
        "id": "B-O0kATePznT",
        "colab": {
          "base_uri": "https://localhost:8080/"
        },
        "outputId": "61fdb002-563f-4e1a-8625-4bb01be3c23c"
      },
      "execution_count": 37,
      "outputs": [
        {
          "output_type": "stream",
          "name": "stdout",
          "text": [
            "['__add__', '__class__', '__contains__', '__delattr__', '__dir__', '__doc__', '__eq__', '__format__', '__ge__', '__getattribute__', '__getitem__', '__getnewargs__', '__gt__', '__hash__', '__init__', '__init_subclass__', '__iter__', '__le__', '__len__', '__lt__', '__mod__', '__mul__', '__ne__', '__new__', '__reduce__', '__reduce_ex__', '__repr__', '__rmod__', '__rmul__', '__setattr__', '__sizeof__', '__str__', '__subclasshook__', 'capitalize', 'casefold', 'center', 'count', 'encode', 'endswith', 'expandtabs', 'find', 'format', 'format_map', 'index', 'isalnum', 'isalpha', 'isascii', 'isdecimal', 'isdigit', 'isidentifier', 'islower', 'isnumeric', 'isprintable', 'isspace', 'istitle', 'isupper', 'join', 'ljust', 'lower', 'lstrip', 'maketrans', 'partition', 'removeprefix', 'removesuffix', 'replace', 'rfind', 'rindex', 'rjust', 'rpartition', 'rsplit', 'rstrip', 'split', 'splitlines', 'startswith', 'strip', 'swapcase', 'title', 'translate', 'upper', 'zfill']\n"
          ]
        }
      ]
    },
    {
      "cell_type": "code",
      "source": [
        "a='Hello, World!'\n",
        "b=a.title()\n",
        "print(b)"
      ],
      "metadata": {
        "id": "HYyNPuq9Pz12",
        "colab": {
          "base_uri": "https://localhost:8080/"
        },
        "outputId": "be0baffd-dc78-480e-f969-9894e228b84e"
      },
      "execution_count": 38,
      "outputs": [
        {
          "output_type": "stream",
          "name": "stdout",
          "text": [
            "Hello, World!\n"
          ]
        }
      ]
    },
    {
      "cell_type": "code",
      "source": [
        "a='Hello, World!'\n",
        "b=a.split()\n",
        "print(b)"
      ],
      "metadata": {
        "id": "E2kghgzhP0AB",
        "colab": {
          "base_uri": "https://localhost:8080/"
        },
        "outputId": "8ff93e80-1f7e-4b51-8ac7-ed2ebab451d1"
      },
      "execution_count": 39,
      "outputs": [
        {
          "output_type": "stream",
          "name": "stdout",
          "text": [
            "['Hello,', 'World!']\n"
          ]
        }
      ]
    },
    {
      "cell_type": "code",
      "source": [
        "a = range(10)\n",
        "b=list(a)\n",
        "print(b)"
      ],
      "metadata": {
        "colab": {
          "base_uri": "https://localhost:8080/"
        },
        "id": "_OP4rYWg8JaK",
        "outputId": "34c8c705-6dd6-4ec3-fc18-79bba5eaa753"
      },
      "execution_count": 40,
      "outputs": [
        {
          "output_type": "stream",
          "name": "stdout",
          "text": [
            "[0, 1, 2, 3, 4, 5, 6, 7, 8, 9]\n"
          ]
        }
      ]
    },
    {
      "cell_type": "code",
      "source": [
        "def add_numbers(a,b):\n",
        "  return a+b\n",
        "result =  add_numbers(10,2)\n",
        "print('result:',result)"
      ],
      "metadata": {
        "colab": {
          "base_uri": "https://localhost:8080/"
        },
        "id": "1pYctThc9ueA",
        "outputId": "e795f48f-bafa-49cc-dcca-9dcf263db891"
      },
      "execution_count": 41,
      "outputs": [
        {
          "output_type": "stream",
          "name": "stdout",
          "text": [
            "result: 12\n"
          ]
        }
      ]
    },
    {
      "cell_type": "code",
      "source": [
        "def greet(name, greeting = 'hello'):\n",
        "  print(f'{greeting }, {name}!')"
      ],
      "metadata": {
        "id": "H1jwuD5F_bit"
      },
      "execution_count": 42,
      "outputs": []
    },
    {
      "cell_type": "code",
      "source": [
        "def calculate_sum(*arg):\n",
        "  total = sum(args)\n",
        "  return total\n",
        "  print('Sum of 1,2,3:',calculate_sum(1,2,3))"
      ],
      "metadata": {
        "id": "8GapDZgRA_4G"
      },
      "execution_count": 43,
      "outputs": []
    },
    {
      "cell_type": "code",
      "source": [
        "correct_username = 'Mathew'\n",
        "correct_password = '123'\n",
        "while True:\n",
        "  username = input('Enter username:')\n",
        "  password = input('Enter password:')\n",
        "  if username == correct_username and password == correct_password:\n",
        "    print('Login successful')\n",
        "    break\n",
        "  else:\n",
        "    print('Invalid username or password')"
      ],
      "metadata": {
        "colab": {
          "base_uri": "https://localhost:8080/"
        },
        "id": "QfrGmUyOFACc",
        "outputId": "c83802a5-9940-4736-efc8-5550ba10b21a"
      },
      "execution_count": 45,
      "outputs": [
        {
          "output_type": "stream",
          "name": "stdout",
          "text": [
            "Enter username:Mathew\n",
            "Enter password:123\n",
            "Login successful\n"
          ]
        }
      ]
    },
    {
      "cell_type": "code",
      "source": [
        "class Person:\n",
        "    def _init_(self, name):\n",
        "        self.name = name\n",
        "        person1 = Person(\"Alice\")\n",
        "        print(person1._dict_)\n",
        "        print(len(person1.name))"
      ],
      "metadata": {
        "id": "Kv9wuC9yFaRm"
      },
      "execution_count": 46,
      "outputs": []
    },
    {
      "cell_type": "code",
      "source": [
        "title = \"hello world\"\n",
        "capitalized_title = title.capitalize()\n",
        "print(\"Capitalized Title:\", capitalized_title)\n",
        "swapped_case_title = title.swapcase()\n",
        "print(\"Swapped Case Title:\", swapped_case_title)"
      ],
      "metadata": {
        "colab": {
          "base_uri": "https://localhost:8080/"
        },
        "id": "cUHbjktDF8Lj",
        "outputId": "a2912916-f9a3-41c4-a256-79747f01b15d"
      },
      "execution_count": 47,
      "outputs": [
        {
          "output_type": "stream",
          "name": "stdout",
          "text": [
            "Capitalized Title: Hello world\n",
            "Swapped Case Title: HELLO WORLD\n"
          ]
        }
      ]
    },
    {
      "cell_type": "code",
      "source": [
        "words = ['Hello', 'World']\n",
        "result = \" \".join(words)\n",
        "print(result)\n",
        "text = \"   Hello World   \"\n",
        "print(text.lstrip())\n",
        "print(text.rstrip())\n",
        "\n",
        "def check_even_odd(number):\n",
        "    if number % 2 == 0:\n",
        "        return \"Even\"\n",
        "    else:\n",
        "        return \"Odd\"\n",
        "result = check_even_odd(4)\n",
        "print(result)"
      ],
      "metadata": {
        "id": "ogx_8WK2Ic9n",
        "colab": {
          "base_uri": "https://localhost:8080/"
        },
        "outputId": "1a3b05b4-0f9d-4f68-aa54-761d6e22ca97"
      },
      "execution_count": 48,
      "outputs": [
        {
          "output_type": "stream",
          "name": "stdout",
          "text": [
            "Hello World\n",
            "Hello World   \n",
            "   Hello World\n",
            "Even\n"
          ]
        }
      ]
    },
    {
      "cell_type": "code",
      "source": [
        "def sum_even_numbers(n):\n",
        "  sum_of_evens = 0\n",
        "  for i in range(2, n + 1, 2):\n",
        "    sum_of_evens += i\n",
        "  return sum_of_evens\n",
        "\n",
        "n = 10\n",
        "result = sum_even_numbers(n)\n",
        "print(f\"The sum of even numbers between 1 and {n} is: {result}\")"
      ],
      "metadata": {
        "id": "p0hloxHRInQ6",
        "colab": {
          "base_uri": "https://localhost:8080/"
        },
        "outputId": "909e3bf3-a18c-46ef-b620-3e8288aebdcb"
      },
      "execution_count": 53,
      "outputs": [
        {
          "output_type": "stream",
          "name": "stdout",
          "text": [
            "The sum of even numbers between 1 and 10 is: 30\n"
          ]
        }
      ]
    },
    {
      "cell_type": "code",
      "source": [],
      "metadata": {
        "id": "i8RhPbLKRdaC"
      },
      "execution_count": null,
      "outputs": []
    }
  ]
}